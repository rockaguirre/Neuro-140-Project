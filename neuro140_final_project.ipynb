{
  "nbformat": 4,
  "nbformat_minor": 0,
  "metadata": {
    "colab": {
      "provenance": [],
      "mount_file_id": "1qjy_BRA8nKV6e9Tqn5wEndiOfBs6nSY-",
      "authorship_tag": "ABX9TyPrlZ7X7Hn0gkdFSREU15s/",
      "include_colab_link": true
    },
    "kernelspec": {
      "name": "python3",
      "display_name": "Python 3"
    },
    "language_info": {
      "name": "python"
    }
  },
  "cells": [
    {
      "cell_type": "markdown",
      "metadata": {
        "id": "view-in-github",
        "colab_type": "text"
      },
      "source": [
        "<a href=\"https://colab.research.google.com/github/rockaguirre/Neuro-140-Project/blob/main/neuro140_final_project.ipynb\" target=\"_parent\"><img src=\"https://colab.research.google.com/assets/colab-badge.svg\" alt=\"Open In Colab\"/></a>"
      ]
    },
    {
      "cell_type": "code",
      "execution_count": 21,
      "metadata": {
        "id": "igY6QJNRMoqb"
      },
      "outputs": [],
      "source": [
        "import os\n",
        "import cv2\n",
        "import matplotlib.pyplot as plt\n",
        "import numpy as np\n",
        "import random\n",
        "from sklearn.utils import shuffle\n",
        "\n",
        "import tensorflow as tf\n",
        "from tensorflow import keras\n",
        "from tensorflow.keras.layers import *\n",
        "from tensorflow.keras.losses import *\n",
        "from tensorflow.keras.models import *\n",
        "from tensorflow.keras.metrics import *\n",
        "from tensorflow.keras.optimizers import *\n",
        "from tensorflow.keras.applications import *\n",
        "from tensorflow.keras.preprocessing.image import load_img\n",
        "from tensorflow.keras.preprocessing.image import ImageDataGenerator\n",
        "\n",
        "\n",
        "from PIL import Image, ImageEnhance"
      ]
    },
    {
      "cell_type": "code",
      "source": [
        "train_directory = '/content/drive/MyDrive/Neuro 140 Final Project/brain_mri_dataset/Training'\n",
        "test_directory = '/content/drive/MyDrive/Neuro 140 Final Project/brain_mri_dataset/Testing'"
      ],
      "metadata": {
        "id": "63na8jr7cUCn"
      },
      "execution_count": 2,
      "outputs": []
    },
    {
      "cell_type": "code",
      "source": [
        "classifications = ['notumor', 'glioma', 'meningioma', 'pituitary']\n",
        "train_path = []\n",
        "train_classification = []\n",
        "\n",
        "for i in classifications:\n",
        "  for j in os.listdir(train_directory+'/'+i):\n",
        "    train_path.append(train_directory+'/'+i+'/'+j)\n",
        "    train_classification.append(i)\n",
        "\n",
        "\n",
        "train_path, train_classification = shuffle(train_path, train_classification)\n",
        "\n",
        "\n",
        "print(train_path[0], train_classification[0])"
      ],
      "metadata": {
        "id": "5eh_zQjucwrd",
        "colab": {
          "base_uri": "https://localhost:8080/"
        },
        "outputId": "4d85191c-b8ce-4577-fd11-44170aa56e1b"
      },
      "execution_count": 23,
      "outputs": [
        {
          "output_type": "stream",
          "name": "stdout",
          "text": [
            "/content/drive/MyDrive/Neuro 140 Final Project/brain_mri_dataset/Training/pituitary/Tr-pi_0389.jpg pituitary\n"
          ]
        }
      ]
    },
    {
      "cell_type": "code",
      "source": [
        "classifications = ['notumor', 'glioma', 'meningioma', 'pituitary']\n",
        "test_path = []\n",
        "test_classification = []\n",
        "\n",
        "for i in classifications:\n",
        "  for j in os.listdir(test_directory+'/'+i):\n",
        "    test_path.append(test_directory+'/'+i+'/'+j)\n",
        "    test_classification.append(i)\n",
        "\n",
        "\n",
        "test_path, test_classification = shuffle(test_path, test_classification)\n",
        "\n",
        "\n",
        "print(test_path[0], test_classification[0])"
      ],
      "metadata": {
        "id": "cA4s4wYlqEmM",
        "colab": {
          "base_uri": "https://localhost:8080/"
        },
        "outputId": "74d0c0ae-8967-414a-d9eb-d5693b7b77eb"
      },
      "execution_count": 24,
      "outputs": [
        {
          "output_type": "stream",
          "name": "stdout",
          "text": [
            "/content/drive/MyDrive/Neuro 140 Final Project/brain_mri_dataset/Testing/notumor/Te-no_0288.jpg notumor\n"
          ]
        }
      ]
    },
    {
      "cell_type": "code",
      "source": [
        "def enhance_image(image):\n",
        "  image = Image.fromarray(np.uint8(image))\n",
        "  image = ImageEnhance.Brightness(image).enhance(random.uniform(0.8,1.2))\n",
        "  image = ImageEnhance.Contrast(image).enhance(random.uniform(0.8,1.2))\n",
        "  image = np.array(image)/255.0\n",
        "\n",
        "  return image"
      ],
      "metadata": {
        "id": "EmLIJ8fVvrEn"
      },
      "execution_count": 34,
      "outputs": []
    },
    {
      "cell_type": "code",
      "source": [
        "# fix input size issues\n",
        "image_size = 128\n",
        "\n",
        "def transform_images(paths):\n",
        "  images = []\n",
        "  for path in paths:\n",
        "    image = load_img(path, target_size=(image_size,image_size))\n",
        "    image = enhance_image(image)\n",
        "    images.append(image)\n",
        "  return np.array(images)"
      ],
      "metadata": {
        "id": "GcUcn_73wsa7"
      },
      "execution_count": 35,
      "outputs": []
    },
    {
      "cell_type": "code",
      "source": [
        "unique_classification = os.listdir(train_directory)\n",
        "\n",
        "def encode_classification(classifications):\n",
        "  return np.array([unique_classification.index(x) for x in classifications])\n",
        "\n",
        "def decode_classification(classifications):\n",
        "  return np.array([unique_classification[x] for x in classifications])\n",
        "\n",
        "def datagen(paths, classifications, batch_size=12, epochs=1):\n",
        "  for _ in range(epochs):\n",
        "    for i, (path, classification) in enumerate(zip(paths, classifications)):\n",
        "      if i % batch_size == 0:\n",
        "          batch_images = transform_images(paths[i:i+batch_size])\n",
        "          batch_classifications = encode_classification(classifications[i:i+batch_size])\n",
        "          yield batch_images, batch_classifications\n"
      ],
      "metadata": {
        "id": "bLNedITew-xr"
      },
      "execution_count": 36,
      "outputs": []
    },
    {
      "cell_type": "code",
      "source": [
        "general_model = VGG16(input_shape=(image_size,image_size,3), include_top=False, weights='imagenet')\n",
        "# set beginning layers to non-trainable to retain pre-trained weights from imagenet\n",
        "\n",
        "for layer in general_model.layers:\n",
        "    layer.trainable=False\n",
        "\n",
        "# set last block to trainable for new dataset\n",
        "general_model.layers[-2].trainable=True\n",
        "general_model.layers[-3].trainable=True\n",
        "general_model.layers[-4].trainable=True\n",
        "\n",
        "# first CNN model\n",
        "first_model = Sequential()\n",
        "first_model.add(Input(shape=(image_size,image_size,3)))\n",
        "first_model.add(general_model)\n",
        "first_model.add(Flatten())\n",
        "first_model.add(Dropout(0.2))\n",
        "first_model.add(Dense(units=128, activation='relu'))\n",
        "first_model.add(Dropout(0.2))\n",
        "first_model.add(Dense(units=4, activation='softmax'))"
      ],
      "metadata": {
        "id": "sk1gSWcHd5cA"
      },
      "execution_count": 37,
      "outputs": []
    },
    {
      "cell_type": "code",
      "source": [
        "print(len(unique_classification))"
      ],
      "metadata": {
        "colab": {
          "base_uri": "https://localhost:8080/"
        },
        "id": "kzpwR5bw8HPx",
        "outputId": "4f082dc2-2c33-4cca-db6a-9258673c7972"
      },
      "execution_count": 27,
      "outputs": [
        {
          "output_type": "stream",
          "name": "stdout",
          "text": [
            "4\n"
          ]
        }
      ]
    },
    {
      "cell_type": "code",
      "source": [
        "first_model.summary()"
      ],
      "metadata": {
        "colab": {
          "base_uri": "https://localhost:8080/"
        },
        "id": "sDEs_W6Szf-W",
        "outputId": "505b42ab-0f44-4597-8f40-f0fc3e530e93"
      },
      "execution_count": 38,
      "outputs": [
        {
          "output_type": "stream",
          "name": "stdout",
          "text": [
            "Model: \"sequential_1\"\n",
            "_________________________________________________________________\n",
            " Layer (type)                Output Shape              Param #   \n",
            "=================================================================\n",
            " vgg16 (Functional)          (None, 4, 4, 512)         14714688  \n",
            "                                                                 \n",
            " flatten_1 (Flatten)         (None, 8192)              0         \n",
            "                                                                 \n",
            " dropout_2 (Dropout)         (None, 8192)              0         \n",
            "                                                                 \n",
            " dense_2 (Dense)             (None, 128)               1048704   \n",
            "                                                                 \n",
            " dropout_3 (Dropout)         (None, 128)               0         \n",
            "                                                                 \n",
            " dense_3 (Dense)             (None, 4)                 516       \n",
            "                                                                 \n",
            "=================================================================\n",
            "Total params: 15,763,908\n",
            "Trainable params: 8,128,644\n",
            "Non-trainable params: 7,635,264\n",
            "_________________________________________________________________\n"
          ]
        }
      ]
    },
    {
      "cell_type": "code",
      "source": [
        "#optimizer = tf.keras.optimizers.legacy.Adam(learning_rate=0.001, decay=0.0001, clipvalue=0.5)\n",
        "first_model.compile(optimizer=Adam(learning_rate=0.001), loss='sparse_categorical_crossentropy', metrics='sparse_categorical_accuracy')"
      ],
      "metadata": {
        "id": "0mD8EGyVQoFV"
      },
      "execution_count": 39,
      "outputs": []
    },
    {
      "cell_type": "code",
      "source": [
        "keras.utils.plot_model(first_model, show_shapes=True)"
      ],
      "metadata": {
        "id": "DB-8UKj5p2z_",
        "colab": {
          "base_uri": "https://localhost:8080/",
          "height": 754
        },
        "outputId": "8bd00807-144d-46fe-ea7b-1f30a62d99dd"
      },
      "execution_count": 30,
      "outputs": [
        {
          "output_type": "execute_result",
          "data": {
            "image/png": "[encoded data removed]",
            "text/plain": [
              "<IPython.core.display.Image object>"
            ]
          },
          "metadata": {},
          "execution_count": 30
        }
      ]
    },
    {
      "cell_type": "code",
      "source": [
        "# partially from ChatGPT\n",
        "#batch_size=20\n",
        "\n",
        "# Create an instance of the ImageDataGenerator\n",
        "#datagen_train = ImageDataGenerator(rescale=1./255)\n",
        "\n",
        "#datagen_test = ImageDataGenerator(rescale=1./255)\n",
        "# Load the training data\n",
        "#train_generator = datagen_train.flow_from_directory('/content/drive/MyDrive/Neuro 140 Final Project/brain_mri_dataset/Training',\n",
        "                                               #target_size=(image_size, image_size),\n",
        "                                               #batch_size=batch_size,\n",
        "                                               #class_mode='categorical')\n",
        "\n",
        "# Load the validation data\n",
        "#test_generator = datagen_test.flow_from_directory('/content/drive/MyDrive/Neuro 140 Final Project/brain_mri_dataset/Testing',\n",
        "                                             #target_size=(image_size, image_size),\n",
        "                                             #batch_size=batch_size,\n",
        "                                             #class_mode='categorical')"
      ],
      "metadata": {
        "id": "PwZ3W-mS3szM"
      },
      "execution_count": 32,
      "outputs": []
    },
    {
      "cell_type": "code",
      "source": [
        "batch_size = 20\n",
        "steps = int(len(train_path)/batch_size)\n",
        "epochs = 5\n",
        "history = first_model.fit(datagen(train_path, train_classification, batch_size=batch_size, epochs=epochs),\n",
        "                    epochs=epochs, steps_per_epoch=steps)"
      ],
      "metadata": {
        "colab": {
          "base_uri": "https://localhost:8080/"
        },
        "id": "WgPm6yVJgIvt",
        "outputId": "5f2062b7-4089-4da0-b065-6e55955e8aaf"
      },
      "execution_count": 40,
      "outputs": [
        {
          "output_type": "stream",
          "name": "stdout",
          "text": [
            "Epoch 1/5\n",
            "285/285 [==============================] - 1468s 5s/step - loss: 0.9960 - sparse_categorical_accuracy: 0.5637\n",
            "Epoch 2/5\n",
            "285/285 [==============================] - 1460s 5s/step - loss: 0.4801 - sparse_categorical_accuracy: 0.8220\n",
            "Epoch 3/5\n",
            "285/285 [==============================] - 1460s 5s/step - loss: 0.3375 - sparse_categorical_accuracy: 0.8872\n",
            "Epoch 4/5\n",
            "285/285 [==============================] - 1441s 5s/step - loss: 0.2777 - sparse_categorical_accuracy: 0.9021\n",
            "Epoch 5/5\n",
            "285/285 [==============================] - 1413s 5s/step - loss: 0.2245 - sparse_categorical_accuracy: 0.9225\n"
          ]
        }
      ]
    },
    {
      "cell_type": "code",
      "source": [
        "for layer in general_model.layers:\n",
        "    layer.trainable=False\n",
        "\n",
        "# set last block to trainable for new dataset\n",
        "general_model.layers[-2].trainable=True\n",
        "general_model.layers[-3].trainable=True\n",
        "general_model.layers[-4].trainable=True\n",
        "\n",
        "# second CNN model\n",
        "second_model = Sequential()\n",
        "second_model.add(Input(shape=(image_size,image_size,3)))\n",
        "second_model.add(general_model)\n",
        "second_model.add(Flatten())\n",
        "second_model.add(Dropout(0.2))\n",
        "second_model.add(Dense(units=128, activation='relu'))\n",
        "second_model.add(Dropout(0.2))\n",
        "second_model.add(Dense(units=4, activation='softmax'))"
      ],
      "metadata": {
        "id": "R1_JLsSiZU_K"
      },
      "execution_count": null,
      "outputs": []
    }
  ]
}